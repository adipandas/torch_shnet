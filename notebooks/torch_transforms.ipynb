{
 "cells": [
  {
   "cell_type": "code",
   "execution_count": 1,
   "metadata": {},
   "outputs": [],
   "source": [
    "import sys\n",
    "import os\n",
    "import os.path as osp\n",
    "\n",
    "sys.path.insert(0, \"../utils/\")\n",
    "sys.path.insert(0, \"../\")"
   ]
  },
  {
   "cell_type": "code",
   "execution_count": 2,
   "metadata": {},
   "outputs": [],
   "source": [
    "import numpy as np\n",
    "import matplotlib.pyplot as plt\n",
    "from mpl_toolkits.axes_grid1 import ImageGrid"
   ]
  },
  {
   "cell_type": "code",
   "execution_count": 3,
   "metadata": {},
   "outputs": [],
   "source": [
    "from utils.read_config import yaml_to_object\n",
    "config = yaml_to_object(\"./../config.yaml\")\n",
    "\n",
    "root_dir = osp.abspath(osp.dirname(\".\"))\n",
    "\n",
    "setattr(config, \"root_dir\", osp.dirname(root_dir))\n",
    "\n",
    "data_path = osp.join(config.root_dir, config.data.MPII.path.base)\n",
    "\n",
    "training_annotation_file = osp.join(data_path, config.data.MPII.path.annotations.training)\n",
    "validation_annotation_file = osp.join(data_path, config.data.MPII.path.annotations.validation)\n",
    "image_dir = osp.join(data_path, config.data.MPII.path.images)"
   ]
  },
  {
   "cell_type": "code",
   "execution_count": 4,
   "metadata": {},
   "outputs": [],
   "source": [
    "from torchvision import transforms\n",
    "from torchvision.io import read_image"
   ]
  },
  {
   "cell_type": "code",
   "execution_count": 5,
   "metadata": {},
   "outputs": [],
   "source": [
    "from utils.data import MPIIAnnotationHandler"
   ]
  },
  {
   "cell_type": "code",
   "execution_count": 6,
   "metadata": {},
   "outputs": [
    {
     "name": "stdout",
     "output_type": "stream",
     "text": [
      "Loading annotation data...\n",
      "Done! (t=3.60s)\n"
     ]
    }
   ],
   "source": [
    "dh = MPIIAnnotationHandler(training_annotation_file, validation_annotation_file, image_dir)"
   ]
  },
  {
   "cell_type": "code",
   "execution_count": 7,
   "metadata": {},
   "outputs": [],
   "source": [
    "image_filename, keypoints, visible, center, scale, _ = dh.get_annotation(0)\n",
    "\n",
    "H = W = 200 * scale"
   ]
  },
  {
   "cell_type": "code",
   "execution_count": 8,
   "metadata": {},
   "outputs": [],
   "source": [
    "img = read_image(image_filename).float()/255.0"
   ]
  },
  {
   "cell_type": "code",
   "execution_count": 10,
   "metadata": {},
   "outputs": [],
   "source": [
    "H_des = W_des = 256"
   ]
  },
  {
   "cell_type": "code",
   "execution_count": 12,
   "metadata": {},
   "outputs": [],
   "source": [
    "resizer = transforms.Resize((H_des, W_des))\n",
    "img = resizer(img)\n"
   ]
  },
  {
   "cell_type": "code",
   "execution_count": 13,
   "metadata": {},
   "outputs": [
    {
     "data": {
      "text/plain": [
       "torch.Size([3, 256, 256])"
      ]
     },
     "execution_count": 13,
     "metadata": {},
     "output_type": "execute_result"
    }
   ],
   "source": [
    "img.shape"
   ]
  },
  {
   "cell_type": "code",
   "execution_count": null,
   "metadata": {},
   "outputs": [],
   "source": [
    "t = transforms.Compose([\n",
    "    transforms.Lambda(lambda image_tensor: x.float()/255.0),\n",
    "    transforms.Resize((H_des, W_des)),\n",
    "    transforms.ColorJitter(brightness=0.3, contrast=0.5, saturation=0.5, hue=0.2),\n",
    "    transforms.RandomHorizontalFlip(p=0.5),\n",
    "])\n",
    "\n",
    "\n",
    "def data_transformer(img):\n",
    "    img = img.float()/255.0\n",
    "    img = transforms.functional.resize(img, size=(256, 256))\n",
    "    img = transforms.functional.adjust_hue(img, hue_factor=.2)  # heu_factor = [-0.2, 0.2] \n",
    "    img = transforms.functional.adjust_brightness(img, brightness_factor=1.0)  #[max(0, 1 - brightness), 1 + brightness]\n",
    "    img = transforms.functional.adjust_contrast(img, contrast_factor=0.2)\n",
    "    img = transforms.functional.hflip(img)\n",
    "    "
   ]
  },
  {
   "cell_type": "code",
   "execution_count": null,
   "metadata": {},
   "outputs": [],
   "source": []
  }
 ],
 "metadata": {
  "kernelspec": {
   "display_name": "Python 3",
   "language": "python",
   "name": "python3"
  },
  "language_info": {
   "codemirror_mode": {
    "name": "ipython",
    "version": 3
   },
   "file_extension": ".py",
   "mimetype": "text/x-python",
   "name": "python",
   "nbconvert_exporter": "python",
   "pygments_lexer": "ipython3",
   "version": "3.6.12"
  }
 },
 "nbformat": 4,
 "nbformat_minor": 4
}
